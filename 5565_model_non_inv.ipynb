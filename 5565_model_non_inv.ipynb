{
 "cells": [
  {
   "cell_type": "markdown",
   "metadata": {},
   "source": [
    "### LSTM"
   ]
  },
  {
   "cell_type": "code",
   "execution_count": 108,
   "metadata": {},
   "outputs": [
    {
     "name": "stdout",
     "output_type": "stream",
     "text": [
      "   hh24  sum_qctr   n  sum_load  nph_ta  nph_hm  nph_rn_60m   elec  weekday\n",
      "0     1     42250  58   4468.72     2.3    65.8         0.0  96.58        2\n",
      "1     2     42250  58   4101.00     2.5    69.7         0.0  88.63        2\n",
      "2     3     42250  58   3724.60     2.8    69.5         0.0  80.50        2\n",
      "3     4     42250  58   3484.40     2.8    66.0         0.0  75.31        2\n",
      "4     5     42250  58   3409.12     3.0    66.1         0.0  73.68        2\n",
      "       hh24  sum_qctr    n  sum_load    nph_ta    nph_hm  nph_rn_60m  \\\n",
      "0  0.000000       1.0  1.0  0.341115  0.129288  0.581998         0.0   \n",
      "1  0.043478       1.0  1.0  0.293362  0.134565  0.630086         0.0   \n",
      "2  0.086957       1.0  1.0  0.244482  0.142480  0.627620         0.0   \n",
      "3  0.130435       1.0  1.0  0.213289  0.142480  0.584464         0.0   \n",
      "4  0.173913       1.0  1.0  0.203514  0.147757  0.585697         0.0   \n",
      "\n",
      "       elec  weekday  \n",
      "0  0.230114        2  \n",
      "1  0.178451        2  \n",
      "2  0.125617        2  \n",
      "3  0.091890        2  \n",
      "4  0.081297        2  \n"
     ]
    }
   ],
   "source": [
    "import pandas as pd\n",
    "import numpy as np\n",
    "from sklearn.preprocessing import MinMaxScaler\n",
    "\n",
    "# 데이터 로드\n",
    "file_path = 'dsets\\group_num\\group_5565.csv'\n",
    "data = pd.read_csv(file_path)\n",
    "\n",
    "# 타임스탬프 컬럼을 datetime 형식으로 변환\n",
    "data['tm'] = pd.to_datetime(data['tm'])\n",
    "\n",
    "features = ['hh24', 'sum_qctr', 'n', 'sum_load', 'nph_ta', 'nph_hm', 'nph_rn_60m', 'elec']\n",
    "data = data[features + ['weekday']]\n",
    "\n",
    "print(data.head(5))\n",
    "\n",
    "# 데이터 스케일링\n",
    "scaler = MinMaxScaler()\n",
    "scaled_data = scaler.fit_transform(data[features])\n",
    "\n",
    "# 스케일링된 데이터를 DataFrame으로 변환하여 weekday 정보 추가\n",
    "scaled_data = pd.DataFrame(scaled_data, columns=features)\n",
    "scaled_data['weekday'] = data['weekday'].values\n",
    "\n",
    "print(scaled_data.head(5))\n"
   ]
  },
  {
   "cell_type": "code",
   "execution_count": 89,
   "metadata": {},
   "outputs": [
    {
     "name": "stdout",
     "output_type": "stream",
     "text": [
      "Weekly sequences shape: (1090, 168, 8)\n",
      "Targets shape: (1090, 168, 1)\n"
     ]
    }
   ],
   "source": [
    "# 주간 시퀀스 생성 함수\n",
    "def create_weekly_sequences(data, target_column, sequence_length=7*24):\n",
    "    sequences = []\n",
    "    targets = []\n",
    "    \n",
    "    # 일별 데이터 그룹화\n",
    "    for i in range(0, len(data) - sequence_length + 1, 24):\n",
    "        week_data = data[i:i + sequence_length]\n",
    "        if len(week_data) == sequence_length:\n",
    "            sequences.append(week_data.drop(columns=[target_column]).values)\n",
    "            targets.append(week_data[target_column].values.reshape(-1,1))  # 마지막 날의 target 값 사용\n",
    "    \n",
    "    return np.array(sequences), np.array(targets)\n",
    "\n",
    "\n",
    "# 주간 시퀀스 생성\n",
    "weekly_sequences, targets = create_weekly_sequences(scaled_data, 'elec')\n",
    "\n",
    "# 시퀀스 데이터 확인\n",
    "print(\"Weekly sequences shape:\", weekly_sequences.shape)\n",
    "print(\"Targets shape:\", targets.shape)\n"
   ]
  },
  {
   "cell_type": "markdown",
   "metadata": {},
   "source": [
    "weekly_sequences는 (n,m,k)의 형태로, 격자 5565 기준 (1090, 168, 8)의 shape을 보입니다.\n",
    "k는 학습에 포함시키기 위해 지정한 feature의 수이고, m은 7*24로 weekday=0~6의 24시간을 한 시퀀스로 묶어 학습하기 위해 설정한 것입니다."
   ]
  },
  {
   "cell_type": "markdown",
   "metadata": {},
   "source": [
    "### Train"
   ]
  },
  {
   "cell_type": "code",
   "execution_count": 90,
   "metadata": {},
   "outputs": [],
   "source": [
    "import pandas as pd\n",
    "import numpy as np\n",
    "from sklearn.preprocessing import MinMaxScaler\n",
    "from sklearn.model_selection import train_test_split\n",
    "from keras.models import Sequential\n",
    "from keras.layers import LSTM, Dense\n",
    "from keras.models import load_model\n",
    "import matplotlib.pyplot as plt\n",
    "from sklearn.metrics import mean_squared_error, r2_score"
   ]
  },
  {
   "cell_type": "code",
   "execution_count": 91,
   "metadata": {},
   "outputs": [
    {
     "name": "stdout",
     "output_type": "stream",
     "text": [
      "Epoch 1/50\n",
      "22/22 [==============================] - 3s 67ms/step - loss: 0.1100 - val_loss: 0.0300\n",
      "Epoch 2/50\n",
      "22/22 [==============================] - 1s 46ms/step - loss: 0.0276 - val_loss: 0.0207\n",
      "Epoch 3/50\n",
      "22/22 [==============================] - 1s 46ms/step - loss: 0.0198 - val_loss: 0.0158\n",
      "Epoch 4/50\n",
      "22/22 [==============================] - 1s 45ms/step - loss: 0.0150 - val_loss: 0.0126\n",
      "Epoch 5/50\n",
      "22/22 [==============================] - 1s 44ms/step - loss: 0.0117 - val_loss: 0.0097\n",
      "Epoch 6/50\n",
      "22/22 [==============================] - 1s 44ms/step - loss: 0.0088 - val_loss: 0.0072\n",
      "Epoch 7/50\n",
      "22/22 [==============================] - 1s 45ms/step - loss: 0.0063 - val_loss: 0.0050\n",
      "Epoch 8/50\n",
      "22/22 [==============================] - 1s 44ms/step - loss: 0.0050 - val_loss: 0.0049\n",
      "Epoch 9/50\n",
      "22/22 [==============================] - 1s 44ms/step - loss: 0.0044 - val_loss: 0.0043\n",
      "Epoch 10/50\n",
      "22/22 [==============================] - 1s 44ms/step - loss: 0.0036 - val_loss: 0.0032\n",
      "Epoch 11/50\n",
      "22/22 [==============================] - 1s 44ms/step - loss: 0.0029 - val_loss: 0.0027\n",
      "Epoch 12/50\n",
      "22/22 [==============================] - 1s 44ms/step - loss: 0.0025 - val_loss: 0.0023\n",
      "Epoch 13/50\n",
      "22/22 [==============================] - 1s 44ms/step - loss: 0.0023 - val_loss: 0.0021\n",
      "Epoch 14/50\n",
      "22/22 [==============================] - 1s 44ms/step - loss: 0.0020 - val_loss: 0.0019\n",
      "Epoch 15/50\n",
      "22/22 [==============================] - 1s 45ms/step - loss: 0.0018 - val_loss: 0.0017\n",
      "Epoch 16/50\n",
      "22/22 [==============================] - 1s 44ms/step - loss: 0.0017 - val_loss: 0.0018\n",
      "Epoch 17/50\n",
      "22/22 [==============================] - 1s 44ms/step - loss: 0.0016 - val_loss: 0.0017\n",
      "Epoch 18/50\n",
      "22/22 [==============================] - 1s 44ms/step - loss: 0.0015 - val_loss: 0.0014\n",
      "Epoch 19/50\n",
      "22/22 [==============================] - 1s 44ms/step - loss: 0.0013 - val_loss: 0.0012\n",
      "Epoch 20/50\n",
      "22/22 [==============================] - 1s 44ms/step - loss: 0.0012 - val_loss: 0.0011\n",
      "Epoch 21/50\n",
      "22/22 [==============================] - 1s 44ms/step - loss: 0.0011 - val_loss: 0.0011\n",
      "Epoch 22/50\n",
      "22/22 [==============================] - 1s 44ms/step - loss: 0.0010 - val_loss: 0.0010\n",
      "Epoch 23/50\n",
      "22/22 [==============================] - 1s 44ms/step - loss: 9.2021e-04 - val_loss: 9.1493e-04\n",
      "Epoch 24/50\n",
      "22/22 [==============================] - 1s 44ms/step - loss: 8.8958e-04 - val_loss: 8.2699e-04\n",
      "Epoch 25/50\n",
      "22/22 [==============================] - 1s 44ms/step - loss: 9.5804e-04 - val_loss: 8.8985e-04\n",
      "Epoch 26/50\n",
      "22/22 [==============================] - 1s 45ms/step - loss: 8.9897e-04 - val_loss: 7.6760e-04\n",
      "Epoch 27/50\n",
      "22/22 [==============================] - 1s 47ms/step - loss: 6.7302e-04 - val_loss: 6.3427e-04\n",
      "Epoch 28/50\n",
      "22/22 [==============================] - 1s 44ms/step - loss: 6.1263e-04 - val_loss: 5.8167e-04\n",
      "Epoch 29/50\n",
      "22/22 [==============================] - 1s 45ms/step - loss: 5.9389e-04 - val_loss: 5.9063e-04\n",
      "Epoch 30/50\n",
      "22/22 [==============================] - 1s 45ms/step - loss: 5.4709e-04 - val_loss: 5.1454e-04\n",
      "Epoch 31/50\n",
      "22/22 [==============================] - 1s 44ms/step - loss: 5.2750e-04 - val_loss: 5.5885e-04\n",
      "Epoch 32/50\n",
      "22/22 [==============================] - 1s 46ms/step - loss: 5.0452e-04 - val_loss: 4.7191e-04\n",
      "Epoch 33/50\n",
      "22/22 [==============================] - 1s 44ms/step - loss: 4.7536e-04 - val_loss: 4.6022e-04\n",
      "Epoch 34/50\n",
      "22/22 [==============================] - 1s 45ms/step - loss: 4.4702e-04 - val_loss: 4.5567e-04\n",
      "Epoch 35/50\n",
      "22/22 [==============================] - 1s 46ms/step - loss: 4.3581e-04 - val_loss: 4.8958e-04\n",
      "Epoch 36/50\n",
      "22/22 [==============================] - 1s 46ms/step - loss: 4.3099e-04 - val_loss: 3.9505e-04\n",
      "Epoch 37/50\n",
      "22/22 [==============================] - 1s 44ms/step - loss: 4.0729e-04 - val_loss: 4.7639e-04\n",
      "Epoch 38/50\n",
      "22/22 [==============================] - 1s 45ms/step - loss: 4.5226e-04 - val_loss: 3.9167e-04\n",
      "Epoch 39/50\n",
      "22/22 [==============================] - 1s 45ms/step - loss: 4.1965e-04 - val_loss: 3.9796e-04\n",
      "Epoch 40/50\n",
      "22/22 [==============================] - 1s 44ms/step - loss: 3.8647e-04 - val_loss: 3.6585e-04\n",
      "Epoch 41/50\n",
      "22/22 [==============================] - 1s 45ms/step - loss: 3.3591e-04 - val_loss: 3.2604e-04\n",
      "Epoch 42/50\n",
      "22/22 [==============================] - 1s 44ms/step - loss: 3.2585e-04 - val_loss: 3.1179e-04\n",
      "Epoch 43/50\n",
      "22/22 [==============================] - 1s 46ms/step - loss: 3.1276e-04 - val_loss: 3.3188e-04\n",
      "Epoch 44/50\n",
      "22/22 [==============================] - 1s 44ms/step - loss: 4.0195e-04 - val_loss: 3.4672e-04\n",
      "Epoch 45/50\n",
      "22/22 [==============================] - 1s 44ms/step - loss: 3.3298e-04 - val_loss: 3.0662e-04\n",
      "Epoch 46/50\n",
      "22/22 [==============================] - 1s 44ms/step - loss: 2.9022e-04 - val_loss: 2.8394e-04\n",
      "Epoch 47/50\n",
      "22/22 [==============================] - 1s 44ms/step - loss: 2.7521e-04 - val_loss: 2.8857e-04\n",
      "Epoch 48/50\n",
      "22/22 [==============================] - 1s 44ms/step - loss: 2.8624e-04 - val_loss: 3.1276e-04\n",
      "Epoch 49/50\n",
      "22/22 [==============================] - 1s 46ms/step - loss: 2.7471e-04 - val_loss: 2.5688e-04\n",
      "Epoch 50/50\n",
      "22/22 [==============================] - 1s 44ms/step - loss: 2.6216e-04 - val_loss: 2.6194e-04\n"
     ]
    },
    {
     "data": {
      "image/png": "[encoded data removed]",
      "text/plain": [
       "<Figure size 640x480 with 1 Axes>"
      ]
     },
     "metadata": {},
     "output_type": "display_data"
    }
   ],
   "source": [
    "# 데이터를 LSTM 입력 형식으로 변환\n",
    "X = weekly_sequences\n",
    "y = targets\n",
    "\n",
    "# 학습 데이터와 테스트 데이터 분할\n",
    "X_train, X_test, y_train, y_test = train_test_split(X, y, test_size=0.2, random_state=42)\n",
    "\n",
    "# LSTM 모델 구축\n",
    "model = Sequential()\n",
    "model.add(LSTM(50, activation='relu', return_sequences=True, input_shape=(X_train.shape[1], X_train.shape[2])))\n",
    "model.add(Dense(1))\n",
    "model.compile(optimizer='adam', loss='mse')\n",
    "\n",
    "# 모델 학습\n",
    "history = model.fit(X_train, y_train, epochs=50, batch_size=32, validation_split=0.2)\n",
    "\n",
    "# 모델 저장\n",
    "model.save('lstm_5565.h5')\n",
    "\n",
    "# 손실 값 시각화\n",
    "plt.plot(history.history['loss'], label='Training Loss')\n",
    "plt.plot(history.history['val_loss'], label='Validation Loss')\n",
    "plt.title('Model Loss')\n",
    "plt.xlabel('Epochs')\n",
    "plt.ylabel('Loss')\n",
    "plt.legend()\n",
    "plt.show()"
   ]
  },
  {
   "cell_type": "code",
   "execution_count": 92,
   "metadata": {},
   "outputs": [
    {
     "name": "stdout",
     "output_type": "stream",
     "text": [
      "(218, 168, 8)\n",
      "(218, 168, 1)\n"
     ]
    }
   ],
   "source": [
    "print(X_test.shape)\n",
    "print(y_test.shape)"
   ]
  },
  {
   "cell_type": "code",
   "execution_count": 100,
   "metadata": {},
   "outputs": [
    {
     "name": "stdout",
     "output_type": "stream",
     "text": [
      "7/7 [==============================] - 0s 14ms/step\n"
     ]
    },
    {
     "ename": "ValueError",
     "evalue": "non-broadcastable output operand with shape (36624,1) doesn't match the broadcast shape (36624,8)",
     "output_type": "error",
     "traceback": [
      "\u001b[1;31m---------------------------------------------------------------------------\u001b[0m",
      "\u001b[1;31mValueError\u001b[0m                                Traceback (most recent call last)",
      "Cell \u001b[1;32mIn[100], line 9\u001b[0m\n\u001b[0;32m      7\u001b[0m y_test_flat \u001b[38;5;241m=\u001b[39m y_test\u001b[38;5;241m.\u001b[39mreshape(\u001b[38;5;241m-\u001b[39m\u001b[38;5;241m1\u001b[39m, \u001b[38;5;241m1\u001b[39m)\n\u001b[0;32m      8\u001b[0m y_pred_flat \u001b[38;5;241m=\u001b[39m y_pred\u001b[38;5;241m.\u001b[39mreshape(\u001b[38;5;241m-\u001b[39m\u001b[38;5;241m1\u001b[39m, \u001b[38;5;241m1\u001b[39m)\n\u001b[1;32m----> 9\u001b[0m y_pred_flat \u001b[38;5;241m=\u001b[39m \u001b[43mscaler\u001b[49m\u001b[38;5;241;43m.\u001b[39;49m\u001b[43minverse_transform\u001b[49m\u001b[43m(\u001b[49m\u001b[43my_pred_flat\u001b[49m\u001b[43m)\u001b[49m\n\u001b[0;32m     10\u001b[0m y_test_flat \u001b[38;5;241m=\u001b[39m scaler\u001b[38;5;241m.\u001b[39minverse_transform(y_test_flat)\n\u001b[0;32m     12\u001b[0m \u001b[38;5;66;03m# 예측 결과 시각화\u001b[39;00m\n",
      "File \u001b[1;32mc:\\Users\\ICS_Lab\\anaconda3\\envs\\DA\\lib\\site-packages\\sklearn\\preprocessing\\_data.py:572\u001b[0m, in \u001b[0;36mMinMaxScaler.inverse_transform\u001b[1;34m(self, X)\u001b[0m\n\u001b[0;32m    563\u001b[0m xp, _ \u001b[38;5;241m=\u001b[39m get_namespace(X)\n\u001b[0;32m    565\u001b[0m X \u001b[38;5;241m=\u001b[39m check_array(\n\u001b[0;32m    566\u001b[0m     X,\n\u001b[0;32m    567\u001b[0m     copy\u001b[38;5;241m=\u001b[39m\u001b[38;5;28mself\u001b[39m\u001b[38;5;241m.\u001b[39mcopy,\n\u001b[0;32m    568\u001b[0m     dtype\u001b[38;5;241m=\u001b[39m_array_api\u001b[38;5;241m.\u001b[39msupported_float_dtypes(xp),\n\u001b[0;32m    569\u001b[0m     force_all_finite\u001b[38;5;241m=\u001b[39m\u001b[38;5;124m\"\u001b[39m\u001b[38;5;124mallow-nan\u001b[39m\u001b[38;5;124m\"\u001b[39m,\n\u001b[0;32m    570\u001b[0m )\n\u001b[1;32m--> 572\u001b[0m X \u001b[38;5;241m-\u001b[39m\u001b[38;5;241m=\u001b[39m \u001b[38;5;28mself\u001b[39m\u001b[38;5;241m.\u001b[39mmin_\n\u001b[0;32m    573\u001b[0m X \u001b[38;5;241m/\u001b[39m\u001b[38;5;241m=\u001b[39m \u001b[38;5;28mself\u001b[39m\u001b[38;5;241m.\u001b[39mscale_\n\u001b[0;32m    574\u001b[0m \u001b[38;5;28;01mreturn\u001b[39;00m X\n",
      "\u001b[1;31mValueError\u001b[0m: non-broadcastable output operand with shape (36624,1) doesn't match the broadcast shape (36624,8)"
     ]
    }
   ],
   "source": [
    "# 모델 로드\n",
    "model = load_model('lstm_5565.h5')\n",
    "\n",
    "# 테스트 데이터 예측\n",
    "y_pred = model.predict(X_test)\n",
    "\n",
    "y_test_flat = y_test.reshape(-1, 1)\n",
    "y_pred_flat = y_pred.reshape(-1, 1)\n",
    "y_pred_flat = scaler.inverse_transform(y_pred_flat)\n",
    "y_test_flat = scaler.inverse_transform(y_test_flat)\n",
    "\n",
    "# 예측 결과 시각화\n",
    "plt.figure(figsize=(12, 6))\n",
    "plt.plot(y_test_flat, label='Actual')\n",
    "plt.plot(y_pred_flat, label='Predicted')\n",
    "plt.title('Actual vs Predicted Electricity Consumption')\n",
    "plt.xlabel('Samples')\n",
    "plt.ylabel('Electricity Consumption')\n",
    "plt.legend()\n",
    "plt.show()\n",
    "\n",
    "# 성능 평가\n",
    "mse = mean_squared_error(y_test_flat, y_pred_flat)\n",
    "print(f'Mean Squared Error: {mse}')"
   ]
  },
  {
   "cell_type": "code",
   "execution_count": 98,
   "metadata": {},
   "outputs": [
    {
     "name": "stdout",
     "output_type": "stream",
     "text": [
      "7/7 [==============================] - 0s 14ms/step\n"
     ]
    },
    {
     "ename": "ValueError",
     "evalue": "operands could not be broadcast together with shapes (36624,9) (8,) (36624,9) ",
     "output_type": "error",
     "traceback": [
      "\u001b[1;31m---------------------------------------------------------------------------\u001b[0m",
      "\u001b[1;31mValueError\u001b[0m                                Traceback (most recent call last)",
      "Cell \u001b[1;32mIn[98], line 20\u001b[0m\n\u001b[0;32m     18\u001b[0m dummy_data \u001b[38;5;241m=\u001b[39m np\u001b[38;5;241m.\u001b[39mzeros((y_pred_reshaped\u001b[38;5;241m.\u001b[39mshape[\u001b[38;5;241m0\u001b[39m], scaled_data\u001b[38;5;241m.\u001b[39mshape[\u001b[38;5;241m1\u001b[39m]))\n\u001b[0;32m     19\u001b[0m dummy_data[:, \u001b[38;5;241m-\u001b[39m\u001b[38;5;241m1\u001b[39m] \u001b[38;5;241m=\u001b[39m y_pred_reshaped[:, \u001b[38;5;241m0\u001b[39m]\n\u001b[1;32m---> 20\u001b[0m y_pred_inverse \u001b[38;5;241m=\u001b[39m \u001b[43mscaler\u001b[49m\u001b[38;5;241;43m.\u001b[39;49m\u001b[43minverse_transform\u001b[49m\u001b[43m(\u001b[49m\u001b[43mdummy_data\u001b[49m\u001b[43m)\u001b[49m[:, \u001b[38;5;241m-\u001b[39m\u001b[38;5;241m1\u001b[39m]\n\u001b[0;32m     22\u001b[0m dummy_data[:, \u001b[38;5;241m-\u001b[39m\u001b[38;5;241m1\u001b[39m] \u001b[38;5;241m=\u001b[39m y_test_reshaped[:, \u001b[38;5;241m0\u001b[39m]\n\u001b[0;32m     23\u001b[0m y_test_inverse \u001b[38;5;241m=\u001b[39m scaler\u001b[38;5;241m.\u001b[39minverse_transform(dummy_data)[:, \u001b[38;5;241m-\u001b[39m\u001b[38;5;241m1\u001b[39m]\n",
      "File \u001b[1;32mc:\\Users\\ICS_Lab\\anaconda3\\envs\\DA\\lib\\site-packages\\sklearn\\preprocessing\\_data.py:572\u001b[0m, in \u001b[0;36mMinMaxScaler.inverse_transform\u001b[1;34m(self, X)\u001b[0m\n\u001b[0;32m    563\u001b[0m xp, _ \u001b[38;5;241m=\u001b[39m get_namespace(X)\n\u001b[0;32m    565\u001b[0m X \u001b[38;5;241m=\u001b[39m check_array(\n\u001b[0;32m    566\u001b[0m     X,\n\u001b[0;32m    567\u001b[0m     copy\u001b[38;5;241m=\u001b[39m\u001b[38;5;28mself\u001b[39m\u001b[38;5;241m.\u001b[39mcopy,\n\u001b[0;32m    568\u001b[0m     dtype\u001b[38;5;241m=\u001b[39m_array_api\u001b[38;5;241m.\u001b[39msupported_float_dtypes(xp),\n\u001b[0;32m    569\u001b[0m     force_all_finite\u001b[38;5;241m=\u001b[39m\u001b[38;5;124m\"\u001b[39m\u001b[38;5;124mallow-nan\u001b[39m\u001b[38;5;124m\"\u001b[39m,\n\u001b[0;32m    570\u001b[0m )\n\u001b[1;32m--> 572\u001b[0m X \u001b[38;5;241m-\u001b[39m\u001b[38;5;241m=\u001b[39m \u001b[38;5;28mself\u001b[39m\u001b[38;5;241m.\u001b[39mmin_\n\u001b[0;32m    573\u001b[0m X \u001b[38;5;241m/\u001b[39m\u001b[38;5;241m=\u001b[39m \u001b[38;5;28mself\u001b[39m\u001b[38;5;241m.\u001b[39mscale_\n\u001b[0;32m    574\u001b[0m \u001b[38;5;28;01mreturn\u001b[39;00m X\n",
      "\u001b[1;31mValueError\u001b[0m: operands could not be broadcast together with shapes (36624,9) (8,) (36624,9) "
     ]
    }
   ],
   "source": [
    "import numpy as np\n",
    "from keras.models import load_model\n",
    "import matplotlib.pyplot as plt\n",
    "from sklearn.metrics import mean_squared_error\n",
    "\n",
    "# 모델 로드\n",
    "model = load_model('lstm_5565.h5')\n",
    "\n",
    "# 테스트 데이터 예측\n",
    "y_pred = model.predict(X_test)\n",
    "\n",
    "# 예측 결과 역스케일링\n",
    "# 예측 값의 형태를 (num_samples * timesteps, 1)로 변환\n",
    "y_pred_reshaped = y_pred.reshape(-1, 1)\n",
    "y_test_reshaped = y_test.reshape(-1, 1)\n",
    "\n",
    "# 원래 데이터의 스케일로 역변환하기 위해 전체 데이터의 형태를 맞춤\n",
    "dummy_data = np.zeros((y_pred_reshaped.shape[0], scaled_data.shape[1]))\n",
    "dummy_data[:, -1] = y_pred_reshaped[:, 0]\n",
    "y_pred_inverse = scaler.inverse_transform(dummy_data)[:, -1]\n",
    "\n",
    "dummy_data[:, -1] = y_test_reshaped[:, 0]\n",
    "y_test_inverse = scaler.inverse_transform(dummy_data)[:, -1]\n",
    "\n",
    "# 예측 결과를 평탄화\n",
    "y_test_flat = y_test_inverse.flatten()\n",
    "y_pred_flat = y_pred_inverse.flatten()\n",
    "\n",
    "# 예측 결과 시각화\n",
    "plt.figure(figsize=(12, 6))\n",
    "plt.plot(y_test_flat, label='Actual')\n",
    "plt.plot(y_pred_flat, label='Predicted')\n",
    "plt.title('Actual vs Predicted Electricity Consumption')\n",
    "plt.xlabel('Samples')\n",
    "plt.ylabel('Electricity Consumption')\n",
    "plt.legend()\n",
    "plt.show()\n",
    "\n",
    "# 성능 평가\n",
    "mse = mean_squared_error(y_test_flat, y_pred_flat)\n",
    "print(f'Mean Squared Error: {mse}')\n"
   ]
  }
 ],
 "metadata": {
  "kernelspec": {
   "display_name": "DA",
   "language": "python",
   "name": "python3"
  },
  "language_info": {
   "codemirror_mode": {
    "name": "ipython",
    "version": 3
   },
   "file_extension": ".py",
   "mimetype": "text/x-python",
   "name": "python",
   "nbconvert_exporter": "python",
   "pygments_lexer": "ipython3",
   "version": "3.10.13"
  }
 },
 "nbformat": 4,
 "nbformat_minor": 2
}
